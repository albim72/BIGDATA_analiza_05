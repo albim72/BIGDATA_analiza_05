{
 "cells":[
  {
   "cell_type":"code",
   "source":[
    "import numpy as np\n",
    "import pandas as pd"
   ],
   "execution_count":1,
   "outputs":[],
   "metadata":{
    "datalore":{
     "node_id":"Gxt6We8DmTcXbm2nWJUj1t",
     "type":"CODE",
     "hide_input_from_viewers":true,
     "hide_output_from_viewers":true
    }
   }
  },
  {
   "cell_type":"code",
   "source":[
    "#tworzenie danych za pomocą numpy\n",
    "np.random.seed(42)\n",
    "num_rows = 1000\n",
    "\n",
    "data = {\n",
    "    \"OrderID\":np.arange(1,num_rows+1),\n",
    "    \"CustomerID\":np.random.randint(1000,2000,size=num_rows),\n",
    "    \"Amount\":np.round(np.random.normal(200,50,size=num_rows)),\n",
    "    \"Region\":np.random.choice([\"North\",\"South\",\"East\",\"West\"],size=num_rows),\n",
    "    \"Returned\":np.random.choice([True,False],size=num_rows,p=[0.1,0.9])\n",
    "}"
   ],
   "execution_count":5,
   "outputs":[],
   "metadata":{
    "datalore":{
     "node_id":"kjeQtCBXGSOTLfz8Tf4uFb",
     "type":"CODE",
     "hide_input_from_viewers":true,
     "hide_output_from_viewers":true
    }
   }
  },
  {
   "cell_type":"code",
   "source":[],
   "execution_count":null,
   "outputs":[],
   "metadata":{
    "datalore":{
     "node_id":"TRLHayxqJOAsFdALwsDvq6",
     "type":"CODE",
     "hide_input_from_viewers":true,
     "hide_output_from_viewers":true
    }
   }
  }
 ],
 "metadata":{
  "kernelspec":{
   "display_name":"Python",
   "language":"python",
   "name":"python"
  },
  "datalore":{
   "computation_mode":"JUPYTER",
   "package_manager":"pip",
   "base_environment":"default_3_11",
   "python_version":"3.11",
   "packages":[],
   "report_row_ids":[],
   "report_tabs":[],
   "version":4
  }
 },
 "nbformat":4,
 "nbformat_minor":4
}