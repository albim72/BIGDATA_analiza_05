{
 "cells":[
  {
   "cell_type":"code",
   "source":[
    "import numpy as np\n",
    "from sklearn.datasets import make_classification\n",
    "from sklearn.linear_model import SGDClassifier\n",
    "from sklearn.metrics import accuracy_score\n",
    "from sklearn.model_selection import train_test_split"
   ],
   "execution_count":2,
   "outputs":[],
   "metadata":{
    "datalore":{
     "node_id":"qBkqqRGvAWKw9bGMXP7boE",
     "type":"CODE",
     "hide_input_from_viewers":true,
     "hide_output_from_viewers":true
    }
   }
  },
  {
   "cell_type":"code",
   "source":[
    "#generujemy dużą ilość danych(1 mln próbek, 20 cech)\n",
    "X,y = make_classification(n_samples=1_000_000, n_features=20,n_informative=15,n_redundant=5,\n",
    "                          n_classes=2,random_state=42)\n",
    "\n",
    "#podział danych\n",
    "X_train,X_test,y_train,y_test = train_test_split(X,y,test_size=0.2,random_state=42)\n",
    "\n",
    "#inicjalizacja modelu\n",
    "clf = SGDClassifier(loss='hinge',max_iter=10,tol=1e-3)\n",
    "\n",
    "#trening modelu\n",
    "clf.fit(X_train,y_train)\n",
    "\n",
    "#predykcja\n",
    "y_pred = clf.predict(X_test)\n",
    "\n",
    "#ocena dokładności\n",
    "accuracy = accuracy_score(y_test,y_pred)\n",
    "print(f\"dokładność: {accuracy:.4f}\")"
   ],
   "execution_count":3,
   "outputs":[
    {
     "name":"stdout",
     "text":[
      "dokładność: 0.8135\n"
     ],
     "output_type":"stream"
    },
    {
     "name":"stderr",
     "text":[
      "\/opt\/python\/envs\/default_3_11\/lib\/python3.11\/site-packages\/sklearn\/linear_model\/_stochastic_gradient.py:738: ConvergenceWarning: Maximum number of iteration reached before convergence. Consider increasing max_iter to improve the fit.\n",
      "  warnings.warn(\n"
     ],
     "output_type":"stream"
    }
   ],
   "metadata":{
    "datalore":{
     "node_id":"RcDcyA1bWGA2WNhJzSVSNx",
     "type":"CODE",
     "hide_input_from_viewers":true,
     "hide_output_from_viewers":true
    }
   }
  },
  {
   "cell_type":"code",
   "source":[
    "import pandas as pd\n",
    "model = SGDClassifier(loss='hinge')\n",
    "\n",
    "chunksize = 10000\n",
    "for chunk in pd.read_csv(\"big_dataset.csv\", chunksize=chunksize):\n",
    "    X_chunk = chunk.drop(\"label\", axis=1).values\n",
    "    y_chunk = chunk[\"label\"].values\n",
    "    model.partial_fit(X_chunk, y_chunk, classes=np.array([0,1])) "
   ],
   "execution_count":5,
   "outputs":[],
   "metadata":{
    "datalore":{
     "node_id":"69Pj8eHAdY2y0o9E6H7qCk",
     "type":"CODE",
     "hide_input_from_viewers":true,
     "hide_output_from_viewers":true
    }
   }
  }
 ],
 "metadata":{
  "kernelspec":{
   "display_name":"Python",
   "language":"python",
   "name":"python"
  },
  "datalore":{
   "computation_mode":"JUPYTER",
   "package_manager":"pip",
   "base_environment":"default_3_11",
   "python_version":"3.11",
   "packages":[],
   "report_row_ids":[],
   "report_tabs":[],
   "version":4
  }
 },
 "nbformat":4,
 "nbformat_minor":4
}