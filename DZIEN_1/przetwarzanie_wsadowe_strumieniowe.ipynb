{
 "cells":[
  {
   "cell_type":"code",
   "source":[
    "#przetwarzanie wsadowe\n",
    "import pandas as pd\n",
    "\n",
    "#wczytanie całego pliku na raz\n",
    "df = pd.read_csv(\"orders.csv\")\n",
    "\n",
    "#obliczenie średniej kwoty na kategorię\n",
    "summary = df.groupby(\"category\")[\"amount\"].mean()\n",
    "\n",
    "print(f\"wynik przetwarzania wsadowego - średnia kwota: {summary}\")"
   ],
   "execution_count":1,
   "outputs":[
    {
     "name":"stdout",
     "text":[
      "wynik przetwarzania wsadowego - średnia kwota: category\n",
      "books           99.292393\n",
      "clothing       100.190852\n",
      "electronics     99.855837\n",
      "home            99.223913\n",
      "sports          99.428165\n",
      "Name: amount, dtype: float64\n"
     ],
     "output_type":"stream"
    }
   ],
   "metadata":{
    "datalore":{
     "node_id":"ZkBisD2NX86lJFGpMqefTE",
     "type":"CODE",
     "hide_input_from_viewers":true,
     "hide_output_from_viewers":true
    }
   }
  },
  {
   "cell_type":"code",
   "source":[
    "#przetwarzanie strumieniowe\n",
    "from collections import defaultdict\n",
    "\n",
    "sums = defaultdict(float)\n",
    "counts = defaultdict(int)\n",
    "\n",
    "with open(\"orders.csv\",\"r\") as f:\n",
    "    next(f)\n",
    "    for line in f:\n",
    "        order_id,amount,category = line.strip().split(\",\")\n",
    "        amount = float(amount)\n",
    "        sums[category] += amount\n",
    "        counts[category] += 1\n",
    "\n",
    "#obliczymy średnią w trybie strumieniowym\n",
    "print(\"wynik przetwarzania strumieniowego:\\n\")\n",
    "for cat in sums:\n",
    "    print(f\"{cat}: {sums[cat]\/counts[cat]:.2f}\")"
   ],
   "execution_count":2,
   "outputs":[
    {
     "name":"stdout",
     "text":[
      "wynik przetwarzania strumieniowego:\n",
      "\n",
      "books: 99.29\n",
      "electronics: 99.86\n",
      "sports: 99.43\n",
      "clothing: 100.19\n",
      "home: 99.22\n"
     ],
     "output_type":"stream"
    }
   ],
   "metadata":{
    "datalore":{
     "node_id":"i2hHCsGCNBpXj69xPQR94J",
     "type":"CODE",
     "hide_input_from_viewers":true,
     "hide_output_from_viewers":true
    }
   }
  }
 ],
 "metadata":{
  "kernelspec":{
   "display_name":"Python",
   "language":"python",
   "name":"python"
  },
  "datalore":{
   "computation_mode":"JUPYTER",
   "package_manager":"pip",
   "base_environment":"default_3_11",
   "python_version":"3.11",
   "packages":[],
   "report_row_ids":[],
   "report_tabs":[],
   "version":4
  }
 },
 "nbformat":4,
 "nbformat_minor":4
}