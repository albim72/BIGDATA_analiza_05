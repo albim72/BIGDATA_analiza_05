{
 "cells":[
  {
   "cell_type":"markdown",
   "source":[
    "Opis -> analiza danych z 10 czujników przez 24 godziny co 10 minut\n",
    "Tensor [10,144,3] -> 10 czujników, 144 pomiary, 3 parametry (temperatura,wilgotoność,ciśnienie)"
   ],
   "attachments":{},
   "metadata":{
    "datalore":{
     "node_id":"B3RgJYmEajptLfceWkhGej",
     "type":"MD",
     "hide_input_from_viewers":true,
     "hide_output_from_viewers":true
    }
   }
  },
  {
   "cell_type":"code",
   "source":[
    "import numpy as np\n",
    "import pandas as pd"
   ],
   "execution_count":1,
   "outputs":[],
   "metadata":{
    "datalore":{
     "node_id":"AeL5E4wZwMnBgAn6PRuBko",
     "type":"CODE",
     "hide_input_from_viewers":true,
     "hide_output_from_viewers":true
    }
   }
  },
  {
   "cell_type":"code",
   "source":[
    "#tworzymy tesnsor 3D (czujnik, czas, parametr)\n",
    "np.random.seed(42)\n",
    "num_sensors = 10\n",
    "time_steps = 144\n",
    "num_features = 3"
   ],
   "execution_count":2,
   "outputs":[],
   "metadata":{
    "datalore":{
     "node_id":"bDwlSSSXahOagZO0l1fI4x",
     "type":"CODE",
     "hide_input_from_viewers":true,
     "hide_output_from_viewers":true
    }
   }
  },
  {
   "cell_type":"code",
   "source":[
    "tensor_data = np.random.normal(loc=[22,50,1013],scale=[1,5,10],\n",
    "                               size=(num_sensors,time_steps,num_features))"
   ],
   "execution_count":3,
   "outputs":[],
   "metadata":{
    "datalore":{
     "node_id":"MFYDFbxmWz5YRm8WhsU7EU",
     "type":"CODE",
     "hide_input_from_viewers":true,
     "hide_output_from_viewers":true
    }
   }
  },
  {
   "cell_type":"code",
   "source":[
    "print(f\"kształt tensora: {tensor_data.shape}\")"
   ],
   "execution_count":4,
   "outputs":[
    {
     "name":"stdout",
     "text":[
      "kształt tensora: (10, 144, 3)\n"
     ],
     "output_type":"stream"
    }
   ],
   "metadata":{
    "datalore":{
     "node_id":"5PMMggF8cbrNBvmI3gIWUp",
     "type":"CODE",
     "hide_input_from_viewers":true,
     "hide_output_from_viewers":true
    }
   }
  },
  {
   "cell_type":"code",
   "source":[
    "#przekształcenie do formatu DataFrame\n",
    "sensor_ids = np.arange(1,num_sensors+1)\n",
    "time_index = pd.date_range(\"2025-05-07\",periods=time_steps,freq=\"10min\")\n",
    "feature_names = [\"temperature\",\"humidity\",\"pressure\"]"
   ],
   "execution_count":5,
   "outputs":[],
   "metadata":{
    "datalore":{
     "node_id":"5upwJA66zkCvQKFOJJhboh",
     "type":"CODE",
     "hide_input_from_viewers":true,
     "hide_output_from_viewers":true
    }
   }
  },
  {
   "cell_type":"code",
   "source":[],
   "execution_count":null,
   "outputs":[],
   "metadata":{
    "datalore":{
     "node_id":"mZDzIp3LLCZUUUgz7rJsfk",
     "type":"CODE",
     "hide_input_from_viewers":true,
     "hide_output_from_viewers":true
    }
   }
  }
 ],
 "metadata":{
  "kernelspec":{
   "display_name":"Python",
   "language":"python",
   "name":"python"
  },
  "datalore":{
   "computation_mode":"JUPYTER",
   "package_manager":"pip",
   "base_environment":"default_3_11",
   "python_version":"3.11",
   "packages":[],
   "report_row_ids":[],
   "report_tabs":[],
   "version":4
  }
 },
 "nbformat":4,
 "nbformat_minor":4
}