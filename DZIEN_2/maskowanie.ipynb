{
 "cells":[
  {
   "cell_type":"code",
   "source":[
    "import pandas as pd\n",
    "import hashlib\n",
    "\n",
    "# Przykładowy DataFrame z danymi wrażliwymi\n",
    "df = pd.DataFrame({\n",
    "    'imie': ['Anna', 'Piotr', 'Jan'],\n",
    "    'nazwisko': ['Kowalska', 'Nowak', 'Wiśniewski'],\n",
    "    'pesel': ['44051401359', '80010112345', '91050609876'],\n",
    "    'miasto': ['Warszawa', 'Kraków', 'Gdańsk'],\n",
    "    'wiek': [34, 45, 29]\n",
    "})\n",
    "\n",
    "# Funkcja do maskowania (pseudonimizacji) danych – np. przez hash SHA-256\n",
    "def pseudonimizuj_wartosc(wartosc):\n",
    "    return hashlib.sha256(wartosc.encode()).hexdigest()\n",
    "\n",
    "# Maskowanie kolumn imie, nazwisko i pesel\n",
    "for kolumna in ['imie', 'nazwisko', 'pesel']:\n",
    "    df[kolumna] = df[kolumna].apply(pseudonimizuj_wartosc)\n",
    "\n",
    "print(\"Zanonimizowane dane:\\n\")\n",
    "print(df)"
   ],
   "execution_count":1,
   "outputs":[
    {
     "name":"stdout",
     "text":[
      "Zanonimizowane dane:\n",
      "\n",
      "                                                imie  \\\n",
      "0  bf4fccd616251b678c56b9cb7a46819b1266853c180637...   \n",
      "1  923818e5629f40f9417e101c111f341dfe2956e5388284...   \n",
      "2  5c5db120cb11bee138ff3143edcbedaead684de7a0ba14...   \n",
      "\n",
      "                                            nazwisko  \\\n",
      "0  3d12462270c5311e44490eb0c98ded121382fff098aa93...   \n",
      "1  2add3f54e40018f50af15b7af7a124ee0f006adae3159f...   \n",
      "2  b4ef58a777a294cd151e5642d5c0756d049dbac1855232...   \n",
      "\n",
      "                                               pesel    miasto  wiek  \n",
      "0  ca7e084373515292389b86d9d1b1f155852b0f35b62246...  Warszawa    34  \n",
      "1  e64412ceb8f5ff659889cdbcae3b6a23c56a1688b7fa3d...    Kraków    45  \n",
      "2  f1369d2b366543f5480a42df1fa4e102617e4c91de93c6...    Gdańsk    29  \n"
     ],
     "output_type":"stream"
    }
   ],
   "metadata":{
    "datalore":{
     "node_id":"5ZkcRfoLn0zCIqaKTJQPnk",
     "type":"CODE",
     "hide_input_from_viewers":true,
     "hide_output_from_viewers":true
    }
   }
  },
  {
   "cell_type":"code",
   "source":[
    "!pip install pycryptodome"
   ],
   "execution_count":2,
   "outputs":[
    {
     "name":"stdout",
     "text":[
      "Collecting pycryptodome\r\n",
      "  Downloading pycryptodome-3.22.0-cp37-abi3-manylinux_2_17_x86_64.manylinux2014_x86_64.whl.metadata (3.4 kB)\r\n",
      "Downloading pycryptodome-3.22.0-cp37-abi3-manylinux_2_17_x86_64.manylinux2014_x86_64.whl (2.3 MB)\r\n",
      "\u001b[?25l   \u001b[90m━━━━━━━━━━━━━━━━━━━━━━━━━━━━━━━━━━━━━━━━\u001b[0m \u001b[32m0.0\/2.3 MB\u001b[0m \u001b[31m?\u001b[0m eta \u001b[36m-:--:--\u001b[0m\r\u001b[2K   \u001b[90m━━━━━━━━━━━━━━━━━━━━━━━━━━━━━━━━━━━━━━━━\u001b[0m \u001b[32m2.3\/2.3 MB\u001b[0m \u001b[31m137.6 MB\/s\u001b[0m eta \u001b[36m0:00:00\u001b[0m\r\n",
      "\u001b[?25hInstalling collected packages: pycryptodome\r\n",
      "Successfully installed pycryptodome-3.22.0\r\n"
     ],
     "output_type":"stream"
    }
   ],
   "metadata":{
    "datalore":{
     "node_id":"B96hfTPkfBx51AgrHVnDk6",
     "type":"CODE",
     "hide_input_from_viewers":true,
     "hide_output_from_viewers":true
    }
   }
  },
  {
   "cell_type":"code",
   "source":[
    "from Crypto.Cipher import AES\n",
    "from Crypto.Random import get_random_bytes\n",
    "from Crypto.Util.Padding import pad, unpad\n",
    "import base64\n",
    "\n",
    "# Dane do zaszyfrowania\n",
    "dane = \"To są dane medyczne pacjenta: Jan Kowalski, 45 lat.\"\n",
    "\n",
    "# Wygeneruj losowy 16-bajtowy klucz AES (dla AES-128)\n",
    "klucz = get_random_bytes(16)\n",
    "print(\"Klucz (hex):\", klucz.hex())\n",
    "\n",
    "# Inicjalizuj szyfrowanie w trybie CBC\n",
    "cipher = AES.new(klucz, AES.MODE_CBC)\n",
    "iv = cipher.iv  # wektor inicjalizujący\n",
    "\n",
    "# Zakoduj i zaszyfruj dane\n",
    "dane_zaszyfrowane = cipher.encrypt(pad(dane.encode(), AES.block_size))\n",
    "dane_zaszyfrowane_b64 = base64.b64encode(iv + dane_zaszyfrowane)\n",
    "\n",
    "print(\"\\nZaszyfrowane dane (base64):\", dane_zaszyfrowane_b64.decode())\n",
    "\n",
    "# Deszyfrowanie\n",
    "dane_zaszyfrowane_full = base64.b64decode(dane_zaszyfrowane_b64)\n",
    "iv_odczytane = dane_zaszyfrowane_full[:AES.block_size]\n",
    "cipher_dec = AES.new(klucz, AES.MODE_CBC, iv=iv_odczytane)\n",
    "dane_odszyfrowane = unpad(cipher_dec.decrypt(dane_zaszyfrowane_full[AES.block_size:]), AES.block_size)\n",
    "\n",
    "print(\"\\nOdszyfrowane dane:\", dane_odszyfrowane.decode())"
   ],
   "execution_count":3,
   "outputs":[
    {
     "name":"stdout",
     "text":[
      "Klucz (hex): d61e348ee92fae0377256065304b64ac\n",
      "\n",
      "Zaszyfrowane dane (base64): mF5xqG8jIr42z+OjTR9sB9AnoLbGoCeOseDpcT7DPDmFd49cO4jDycaCzpjsz9iSCJTZOp5qUOx+5a31avJTocMK8votJuqQF0DqyKCEUYo=\n",
      "\n",
      "Odszyfrowane dane: To są dane medyczne pacjenta: Jan Kowalski, 45 lat.\n"
     ],
     "output_type":"stream"
    }
   ],
   "metadata":{
    "datalore":{
     "node_id":"LdzsHNlutu4xFEnfgS4j7j",
     "type":"CODE",
     "hide_input_from_viewers":true,
     "hide_output_from_viewers":true
    }
   }
  }
 ],
 "metadata":{
  "kernelspec":{
   "display_name":"Python",
   "language":"python",
   "name":"python"
  },
  "datalore":{
   "computation_mode":"JUPYTER",
   "package_manager":"pip",
   "base_environment":"default_3_11",
   "python_version":"3.11",
   "packages":[],
   "report_row_ids":[],
   "report_tabs":[],
   "version":4
  }
 },
 "nbformat":4,
 "nbformat_minor":4
}